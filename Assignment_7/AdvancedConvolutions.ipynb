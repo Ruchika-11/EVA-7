{
  "nbformat": 4,
  "nbformat_minor": 0,
  "metadata": {
    "colab": {
      "name": "AdvancedConvolutions.ipynb",
      "provenance": [],
      "authorship_tag": "ABX9TyOPhUsXdWjc1UimpM+JDiW+",
      "include_colab_link": true
    },
    "kernelspec": {
      "name": "python3",
      "display_name": "Python 3"
    },
    "language_info": {
      "name": "python"
    },
    "accelerator": "GPU",
    "widgets": {
      "application/vnd.jupyter.widget-state+json": {
        "a115fec0508c4d23bc70fee02d155dd1": {
          "model_module": "@jupyter-widgets/controls",
          "model_name": "HBoxModel",
          "model_module_version": "1.5.0",
          "state": {
            "_view_name": "HBoxView",
            "_dom_classes": [],
            "_model_name": "HBoxModel",
            "_view_module": "@jupyter-widgets/controls",
            "_model_module_version": "1.5.0",
            "_view_count": null,
            "_view_module_version": "1.5.0",
            "box_style": "",
            "layout": "IPY_MODEL_742e5b3a698a4512bee71105b0e29a01",
            "_model_module": "@jupyter-widgets/controls",
            "children": [
              "IPY_MODEL_a48afdfd158f4f45bdd0669ebf5dc2c5",
              "IPY_MODEL_539283799b1f4871b67064be252713c0",
              "IPY_MODEL_fcd65f5f02f2471793185d63c6a16eb4"
            ]
          }
        },
        "742e5b3a698a4512bee71105b0e29a01": {
          "model_module": "@jupyter-widgets/base",
          "model_name": "LayoutModel",
          "model_module_version": "1.2.0",
          "state": {
            "_view_name": "LayoutView",
            "grid_template_rows": null,
            "right": null,
            "justify_content": null,
            "_view_module": "@jupyter-widgets/base",
            "overflow": null,
            "_model_module_version": "1.2.0",
            "_view_count": null,
            "flex_flow": null,
            "width": null,
            "min_width": null,
            "border": null,
            "align_items": null,
            "bottom": null,
            "_model_module": "@jupyter-widgets/base",
            "top": null,
            "grid_column": null,
            "overflow_y": null,
            "overflow_x": null,
            "grid_auto_flow": null,
            "grid_area": null,
            "grid_template_columns": null,
            "flex": null,
            "_model_name": "LayoutModel",
            "justify_items": null,
            "grid_row": null,
            "max_height": null,
            "align_content": null,
            "visibility": null,
            "align_self": null,
            "height": null,
            "min_height": null,
            "padding": null,
            "grid_auto_rows": null,
            "grid_gap": null,
            "max_width": null,
            "order": null,
            "_view_module_version": "1.2.0",
            "grid_template_areas": null,
            "object_position": null,
            "object_fit": null,
            "grid_auto_columns": null,
            "margin": null,
            "display": null,
            "left": null
          }
        },
        "a48afdfd158f4f45bdd0669ebf5dc2c5": {
          "model_module": "@jupyter-widgets/controls",
          "model_name": "HTMLModel",
          "model_module_version": "1.5.0",
          "state": {
            "_view_name": "HTMLView",
            "style": "IPY_MODEL_03c6731d48384947895d9f49155909d0",
            "_dom_classes": [],
            "description": "",
            "_model_name": "HTMLModel",
            "placeholder": "​",
            "_view_module": "@jupyter-widgets/controls",
            "_model_module_version": "1.5.0",
            "value": "",
            "_view_count": null,
            "_view_module_version": "1.5.0",
            "description_tooltip": null,
            "_model_module": "@jupyter-widgets/controls",
            "layout": "IPY_MODEL_c7fac80fe7d04efab5000323daff838f"
          }
        },
        "539283799b1f4871b67064be252713c0": {
          "model_module": "@jupyter-widgets/controls",
          "model_name": "FloatProgressModel",
          "model_module_version": "1.5.0",
          "state": {
            "_view_name": "ProgressView",
            "style": "IPY_MODEL_88662735cf9546b1b91087684b71770f",
            "_dom_classes": [],
            "description": "",
            "_model_name": "FloatProgressModel",
            "bar_style": "success",
            "max": 170498071,
            "_view_module": "@jupyter-widgets/controls",
            "_model_module_version": "1.5.0",
            "value": 170498071,
            "_view_count": null,
            "_view_module_version": "1.5.0",
            "orientation": "horizontal",
            "min": 0,
            "description_tooltip": null,
            "_model_module": "@jupyter-widgets/controls",
            "layout": "IPY_MODEL_2f6a49824984430a877a54ef2f6e0b11"
          }
        },
        "fcd65f5f02f2471793185d63c6a16eb4": {
          "model_module": "@jupyter-widgets/controls",
          "model_name": "HTMLModel",
          "model_module_version": "1.5.0",
          "state": {
            "_view_name": "HTMLView",
            "style": "IPY_MODEL_5376871079d14a0ab84567e167aa33aa",
            "_dom_classes": [],
            "description": "",
            "_model_name": "HTMLModel",
            "placeholder": "​",
            "_view_module": "@jupyter-widgets/controls",
            "_model_module_version": "1.5.0",
            "value": " 170499072/? [00:11&lt;00:00, 15753823.92it/s]",
            "_view_count": null,
            "_view_module_version": "1.5.0",
            "description_tooltip": null,
            "_model_module": "@jupyter-widgets/controls",
            "layout": "IPY_MODEL_46a3334124a743e59d06b0e898d3cbe7"
          }
        },
        "03c6731d48384947895d9f49155909d0": {
          "model_module": "@jupyter-widgets/controls",
          "model_name": "DescriptionStyleModel",
          "model_module_version": "1.5.0",
          "state": {
            "_view_name": "StyleView",
            "_model_name": "DescriptionStyleModel",
            "description_width": "",
            "_view_module": "@jupyter-widgets/base",
            "_model_module_version": "1.5.0",
            "_view_count": null,
            "_view_module_version": "1.2.0",
            "_model_module": "@jupyter-widgets/controls"
          }
        },
        "c7fac80fe7d04efab5000323daff838f": {
          "model_module": "@jupyter-widgets/base",
          "model_name": "LayoutModel",
          "model_module_version": "1.2.0",
          "state": {
            "_view_name": "LayoutView",
            "grid_template_rows": null,
            "right": null,
            "justify_content": null,
            "_view_module": "@jupyter-widgets/base",
            "overflow": null,
            "_model_module_version": "1.2.0",
            "_view_count": null,
            "flex_flow": null,
            "width": null,
            "min_width": null,
            "border": null,
            "align_items": null,
            "bottom": null,
            "_model_module": "@jupyter-widgets/base",
            "top": null,
            "grid_column": null,
            "overflow_y": null,
            "overflow_x": null,
            "grid_auto_flow": null,
            "grid_area": null,
            "grid_template_columns": null,
            "flex": null,
            "_model_name": "LayoutModel",
            "justify_items": null,
            "grid_row": null,
            "max_height": null,
            "align_content": null,
            "visibility": null,
            "align_self": null,
            "height": null,
            "min_height": null,
            "padding": null,
            "grid_auto_rows": null,
            "grid_gap": null,
            "max_width": null,
            "order": null,
            "_view_module_version": "1.2.0",
            "grid_template_areas": null,
            "object_position": null,
            "object_fit": null,
            "grid_auto_columns": null,
            "margin": null,
            "display": null,
            "left": null
          }
        },
        "88662735cf9546b1b91087684b71770f": {
          "model_module": "@jupyter-widgets/controls",
          "model_name": "ProgressStyleModel",
          "model_module_version": "1.5.0",
          "state": {
            "_view_name": "StyleView",
            "_model_name": "ProgressStyleModel",
            "description_width": "",
            "_view_module": "@jupyter-widgets/base",
            "_model_module_version": "1.5.0",
            "_view_count": null,
            "_view_module_version": "1.2.0",
            "bar_color": null,
            "_model_module": "@jupyter-widgets/controls"
          }
        },
        "2f6a49824984430a877a54ef2f6e0b11": {
          "model_module": "@jupyter-widgets/base",
          "model_name": "LayoutModel",
          "model_module_version": "1.2.0",
          "state": {
            "_view_name": "LayoutView",
            "grid_template_rows": null,
            "right": null,
            "justify_content": null,
            "_view_module": "@jupyter-widgets/base",
            "overflow": null,
            "_model_module_version": "1.2.0",
            "_view_count": null,
            "flex_flow": null,
            "width": null,
            "min_width": null,
            "border": null,
            "align_items": null,
            "bottom": null,
            "_model_module": "@jupyter-widgets/base",
            "top": null,
            "grid_column": null,
            "overflow_y": null,
            "overflow_x": null,
            "grid_auto_flow": null,
            "grid_area": null,
            "grid_template_columns": null,
            "flex": null,
            "_model_name": "LayoutModel",
            "justify_items": null,
            "grid_row": null,
            "max_height": null,
            "align_content": null,
            "visibility": null,
            "align_self": null,
            "height": null,
            "min_height": null,
            "padding": null,
            "grid_auto_rows": null,
            "grid_gap": null,
            "max_width": null,
            "order": null,
            "_view_module_version": "1.2.0",
            "grid_template_areas": null,
            "object_position": null,
            "object_fit": null,
            "grid_auto_columns": null,
            "margin": null,
            "display": null,
            "left": null
          }
        },
        "5376871079d14a0ab84567e167aa33aa": {
          "model_module": "@jupyter-widgets/controls",
          "model_name": "DescriptionStyleModel",
          "model_module_version": "1.5.0",
          "state": {
            "_view_name": "StyleView",
            "_model_name": "DescriptionStyleModel",
            "description_width": "",
            "_view_module": "@jupyter-widgets/base",
            "_model_module_version": "1.5.0",
            "_view_count": null,
            "_view_module_version": "1.2.0",
            "_model_module": "@jupyter-widgets/controls"
          }
        },
        "46a3334124a743e59d06b0e898d3cbe7": {
          "model_module": "@jupyter-widgets/base",
          "model_name": "LayoutModel",
          "model_module_version": "1.2.0",
          "state": {
            "_view_name": "LayoutView",
            "grid_template_rows": null,
            "right": null,
            "justify_content": null,
            "_view_module": "@jupyter-widgets/base",
            "overflow": null,
            "_model_module_version": "1.2.0",
            "_view_count": null,
            "flex_flow": null,
            "width": null,
            "min_width": null,
            "border": null,
            "align_items": null,
            "bottom": null,
            "_model_module": "@jupyter-widgets/base",
            "top": null,
            "grid_column": null,
            "overflow_y": null,
            "overflow_x": null,
            "grid_auto_flow": null,
            "grid_area": null,
            "grid_template_columns": null,
            "flex": null,
            "_model_name": "LayoutModel",
            "justify_items": null,
            "grid_row": null,
            "max_height": null,
            "align_content": null,
            "visibility": null,
            "align_self": null,
            "height": null,
            "min_height": null,
            "padding": null,
            "grid_auto_rows": null,
            "grid_gap": null,
            "max_width": null,
            "order": null,
            "_view_module_version": "1.2.0",
            "grid_template_areas": null,
            "object_position": null,
            "object_fit": null,
            "grid_auto_columns": null,
            "margin": null,
            "display": null,
            "left": null
          }
        }
      }
    }
  },
  "cells": [
    {
      "cell_type": "markdown",
      "metadata": {
        "id": "view-in-github",
        "colab_type": "text"
      },
      "source": [
        "<a href=\"https://colab.research.google.com/github/Ruchika-11/EVA-7/blob/main/Assignment_7/AdvancedConvolutions.ipynb\" target=\"_parent\"><img src=\"https://colab.research.google.com/assets/colab-badge.svg\" alt=\"Open In Colab\"/></a>"
      ]
    },
    {
      "cell_type": "code",
      "metadata": {
        "colab": {
          "base_uri": "https://localhost:8080/"
        },
        "id": "OLOOXgismJ1c",
        "outputId": "3b7aba7d-47b3-4b56-b062-8bdf58b512c2"
      },
      "source": [
        "! pip install albumentations==0.4.6\n",
        "import albumentations "
      ],
      "execution_count": 1,
      "outputs": [
        {
          "output_type": "stream",
          "name": "stdout",
          "text": [
            "Collecting albumentations==0.4.6\n",
            "  Downloading albumentations-0.4.6.tar.gz (117 kB)\n",
            "\u001b[K     |████████████████████████████████| 117 kB 4.3 MB/s \n",
            "\u001b[?25hRequirement already satisfied: numpy>=1.11.1 in /usr/local/lib/python3.7/dist-packages (from albumentations==0.4.6) (1.19.5)\n",
            "Requirement already satisfied: scipy in /usr/local/lib/python3.7/dist-packages (from albumentations==0.4.6) (1.4.1)\n",
            "Collecting imgaug>=0.4.0\n",
            "  Downloading imgaug-0.4.0-py2.py3-none-any.whl (948 kB)\n",
            "\u001b[K     |████████████████████████████████| 948 kB 18.0 MB/s \n",
            "\u001b[?25hRequirement already satisfied: PyYAML in /usr/local/lib/python3.7/dist-packages (from albumentations==0.4.6) (3.13)\n",
            "Requirement already satisfied: opencv-python>=4.1.1 in /usr/local/lib/python3.7/dist-packages (from albumentations==0.4.6) (4.1.2.30)\n",
            "Requirement already satisfied: Shapely in /usr/local/lib/python3.7/dist-packages (from imgaug>=0.4.0->albumentations==0.4.6) (1.8.0)\n",
            "Requirement already satisfied: scikit-image>=0.14.2 in /usr/local/lib/python3.7/dist-packages (from imgaug>=0.4.0->albumentations==0.4.6) (0.16.2)\n",
            "Requirement already satisfied: imageio in /usr/local/lib/python3.7/dist-packages (from imgaug>=0.4.0->albumentations==0.4.6) (2.4.1)\n",
            "Requirement already satisfied: Pillow in /usr/local/lib/python3.7/dist-packages (from imgaug>=0.4.0->albumentations==0.4.6) (7.1.2)\n",
            "Requirement already satisfied: matplotlib in /usr/local/lib/python3.7/dist-packages (from imgaug>=0.4.0->albumentations==0.4.6) (3.2.2)\n",
            "Requirement already satisfied: six in /usr/local/lib/python3.7/dist-packages (from imgaug>=0.4.0->albumentations==0.4.6) (1.15.0)\n",
            "Requirement already satisfied: networkx>=2.0 in /usr/local/lib/python3.7/dist-packages (from scikit-image>=0.14.2->imgaug>=0.4.0->albumentations==0.4.6) (2.6.3)\n",
            "Requirement already satisfied: PyWavelets>=0.4.0 in /usr/local/lib/python3.7/dist-packages (from scikit-image>=0.14.2->imgaug>=0.4.0->albumentations==0.4.6) (1.2.0)\n",
            "Requirement already satisfied: pyparsing!=2.0.4,!=2.1.2,!=2.1.6,>=2.0.1 in /usr/local/lib/python3.7/dist-packages (from matplotlib->imgaug>=0.4.0->albumentations==0.4.6) (2.4.7)\n",
            "Requirement already satisfied: cycler>=0.10 in /usr/local/lib/python3.7/dist-packages (from matplotlib->imgaug>=0.4.0->albumentations==0.4.6) (0.11.0)\n",
            "Requirement already satisfied: kiwisolver>=1.0.1 in /usr/local/lib/python3.7/dist-packages (from matplotlib->imgaug>=0.4.0->albumentations==0.4.6) (1.3.2)\n",
            "Requirement already satisfied: python-dateutil>=2.1 in /usr/local/lib/python3.7/dist-packages (from matplotlib->imgaug>=0.4.0->albumentations==0.4.6) (2.8.2)\n",
            "Building wheels for collected packages: albumentations\n",
            "  Building wheel for albumentations (setup.py) ... \u001b[?25l\u001b[?25hdone\n",
            "  Created wheel for albumentations: filename=albumentations-0.4.6-py3-none-any.whl size=65172 sha256=852807049fdb2f36da1fdf946cbeb82a3019ad0497c7561dedbe47ecb60b5c59\n",
            "  Stored in directory: /root/.cache/pip/wheels/cf/34/0f/cb2a5f93561a181a4bcc84847ad6aaceea8b5a3127469616cc\n",
            "Successfully built albumentations\n",
            "Installing collected packages: imgaug, albumentations\n",
            "  Attempting uninstall: imgaug\n",
            "    Found existing installation: imgaug 0.2.9\n",
            "    Uninstalling imgaug-0.2.9:\n",
            "      Successfully uninstalled imgaug-0.2.9\n",
            "  Attempting uninstall: albumentations\n",
            "    Found existing installation: albumentations 0.1.12\n",
            "    Uninstalling albumentations-0.1.12:\n",
            "      Successfully uninstalled albumentations-0.1.12\n",
            "Successfully installed albumentations-0.4.6 imgaug-0.4.0\n"
          ]
        }
      ]
    },
    {
      "cell_type": "code",
      "metadata": {
        "id": "UXn6-QFAt9lW"
      },
      "source": [
        "from albumentations.pytorch import ToTensorV2"
      ],
      "execution_count": 2,
      "outputs": []
    },
    {
      "cell_type": "code",
      "metadata": {
        "id": "vUx4nXu5_4U_",
        "colab": {
          "base_uri": "https://localhost:8080/",
          "height": 99,
          "referenced_widgets": [
            "a115fec0508c4d23bc70fee02d155dd1",
            "742e5b3a698a4512bee71105b0e29a01",
            "a48afdfd158f4f45bdd0669ebf5dc2c5",
            "539283799b1f4871b67064be252713c0",
            "fcd65f5f02f2471793185d63c6a16eb4",
            "03c6731d48384947895d9f49155909d0",
            "c7fac80fe7d04efab5000323daff838f",
            "88662735cf9546b1b91087684b71770f",
            "2f6a49824984430a877a54ef2f6e0b11",
            "5376871079d14a0ab84567e167aa33aa",
            "46a3334124a743e59d06b0e898d3cbe7"
          ]
        },
        "outputId": "6b438efc-4c34-4258-cdc3-cdf6bcb58f42"
      },
      "source": [
        "import torch\n",
        "import torch.optim as optim\n",
        "from train import train\n",
        "from test import test\n",
        "from dataloader import trainloader,testloader\n",
        "from model import Net4\n",
        "import matplotlib.pyplot as plt"
      ],
      "execution_count": 4,
      "outputs": [
        {
          "output_type": "stream",
          "name": "stdout",
          "text": [
            "Downloading https://www.cs.toronto.edu/~kriz/cifar-10-python.tar.gz to ./data/cifar-10-python.tar.gz\n"
          ]
        },
        {
          "output_type": "display_data",
          "data": {
            "application/vnd.jupyter.widget-view+json": {
              "model_id": "a115fec0508c4d23bc70fee02d155dd1",
              "version_minor": 0,
              "version_major": 2
            },
            "text/plain": [
              "  0%|          | 0/170498071 [00:00<?, ?it/s]"
            ]
          },
          "metadata": {}
        },
        {
          "output_type": "stream",
          "name": "stdout",
          "text": [
            "Extracting ./data/cifar-10-python.tar.gz to ./data\n",
            "Files already downloaded and verified\n"
          ]
        }
      ]
    },
    {
      "cell_type": "code",
      "metadata": {
        "id": "zif5YPSK_6sb",
        "colab": {
          "base_uri": "https://localhost:8080/"
        },
        "outputId": "27a12c9f-c189-4897-df79-f8bea3a7b3f4"
      },
      "source": [
        "use_cuda = torch.cuda.is_available()\n",
        "device = torch.device(\"cuda\" if use_cuda else \"cpu\")\n",
        "print(device)"
      ],
      "execution_count": 5,
      "outputs": [
        {
          "output_type": "stream",
          "name": "stdout",
          "text": [
            "cuda\n"
          ]
        }
      ]
    },
    {
      "cell_type": "code",
      "metadata": {
        "id": "FaTuexr0_8VI",
        "colab": {
          "base_uri": "https://localhost:8080/"
        },
        "outputId": "2a65da67-5595-48db-af55-c55593a16c88"
      },
      "source": [
        "model = Net4().to(device)\n",
        "optimizer = optim.SGD(model.parameters(), lr=0.3, momentum=0.9)\n",
        "scheduler = optim.lr_scheduler.StepLR(optimizer,step_size = 6,gamma = 0.5,verbose = True) \n",
        "\n",
        "train_accuracies = []\n",
        "train_losses = []\n",
        "test_accuracies = []\n",
        "test_losses = []\n",
        "\n",
        "for epoch in range(1, 100):\n",
        "\n",
        "    print(f\"Epoch {epoch}\")\n",
        "    scheduler.step()\n",
        "\n",
        "    x,y = train(model, device, train_loader = trainloader, optimizer = optimizer,epoch =  epoch)\n",
        "    a,b = test(model, device, test_loader = testloader)\n",
        "\n",
        "    train_losses.append(x)\n",
        "    test_losses.append(a)\n",
        "    train_accuracies.append(y)\n",
        "    test_accuracies.append(b)"
      ],
      "execution_count": 6,
      "outputs": [
        {
          "metadata": {
            "tags": null
          },
          "name": "stderr",
          "output_type": "stream",
          "text": [
            "/usr/local/lib/python3.7/dist-packages/torch/optim/lr_scheduler.py:134: UserWarning: Detected call of `lr_scheduler.step()` before `optimizer.step()`. In PyTorch 1.1.0 and later, you should call them in the opposite order: `optimizer.step()` before `lr_scheduler.step()`.  Failure to do this will result in PyTorch skipping the first value of the learning rate schedule. See more details at https://pytorch.org/docs/stable/optim.html#how-to-adjust-learning-rate\n",
            "  \"https://pytorch.org/docs/stable/optim.html#how-to-adjust-learning-rate\", UserWarning)\n"
          ]
        },
        {
          "metadata": {
            "tags": null
          },
          "name": "stdout",
          "output_type": "stream",
          "text": [
            "Adjusting learning rate of group 0 to 3.0000e-01.\n",
            "Epoch 1\n",
            "Adjusting learning rate of group 0 to 3.0000e-01.\n"
          ]
        },
        {
          "metadata": {
            "tags": null
          },
          "name": "stderr",
          "output_type": "stream",
          "text": [
            "Loss=1.6555702686309814 Batch_id=390 Train Accuracy=32.89: 100%|██████████| 391/391 [00:35<00:00, 11.10it/s]\n"
          ]
        },
        {
          "metadata": {
            "tags": null
          },
          "name": "stdout",
          "output_type": "stream",
          "text": [
            "\n",
            "Test set: Average loss: 1.6697, Test Accuracy: 4027/10000 (40.27%)\n",
            "\n",
            "Epoch 2\n",
            "Adjusting learning rate of group 0 to 3.0000e-01.\n"
          ]
        },
        {
          "metadata": {
            "tags": null
          },
          "name": "stderr",
          "output_type": "stream",
          "text": [
            "Loss=1.446254849433899 Batch_id=390 Train Accuracy=43.47: 100%|██████████| 391/391 [00:35<00:00, 11.14it/s]\n"
          ]
        },
        {
          "metadata": {
            "tags": null
          },
          "name": "stdout",
          "output_type": "stream",
          "text": [
            "\n",
            "Test set: Average loss: 1.4198, Test Accuracy: 5002/10000 (50.02%)\n",
            "\n",
            "Epoch 3\n",
            "Adjusting learning rate of group 0 to 3.0000e-01.\n"
          ]
        },
        {
          "metadata": {
            "tags": null
          },
          "name": "stderr",
          "output_type": "stream",
          "text": [
            "Loss=1.3715786933898926 Batch_id=390 Train Accuracy=48.43: 100%|██████████| 391/391 [00:35<00:00, 11.09it/s]\n"
          ]
        },
        {
          "metadata": {
            "tags": null
          },
          "name": "stdout",
          "output_type": "stream",
          "text": [
            "\n",
            "Test set: Average loss: 1.2520, Test Accuracy: 5475/10000 (54.75%)\n",
            "\n",
            "Epoch 4\n",
            "Adjusting learning rate of group 0 to 3.0000e-01.\n"
          ]
        },
        {
          "metadata": {
            "tags": null
          },
          "name": "stderr",
          "output_type": "stream",
          "text": [
            "Loss=1.2308759689331055 Batch_id=390 Train Accuracy=52.60: 100%|██████████| 391/391 [00:35<00:00, 11.17it/s]\n"
          ]
        },
        {
          "metadata": {
            "tags": null
          },
          "name": "stdout",
          "output_type": "stream",
          "text": [
            "\n",
            "Test set: Average loss: 1.0748, Test Accuracy: 6192/10000 (61.92%)\n",
            "\n",
            "Epoch 5\n",
            "Adjusting learning rate of group 0 to 3.0000e-01.\n"
          ]
        },
        {
          "metadata": {
            "tags": null
          },
          "name": "stderr",
          "output_type": "stream",
          "text": [
            "Loss=1.2130534648895264 Batch_id=390 Train Accuracy=55.98: 100%|██████████| 391/391 [00:34<00:00, 11.17it/s]\n"
          ]
        },
        {
          "metadata": {
            "tags": null
          },
          "name": "stdout",
          "output_type": "stream",
          "text": [
            "\n",
            "Test set: Average loss: 0.9785, Test Accuracy: 6571/10000 (65.71%)\n",
            "\n",
            "Epoch 6\n",
            "Adjusting learning rate of group 0 to 1.5000e-01.\n"
          ]
        },
        {
          "metadata": {
            "tags": null
          },
          "name": "stderr",
          "output_type": "stream",
          "text": [
            "Loss=0.9625236392021179 Batch_id=390 Train Accuracy=61.43: 100%|██████████| 391/391 [00:35<00:00, 11.14it/s]\n"
          ]
        },
        {
          "metadata": {
            "tags": null
          },
          "name": "stdout",
          "output_type": "stream",
          "text": [
            "\n",
            "Test set: Average loss: 0.8380, Test Accuracy: 7074/10000 (70.74%)\n",
            "\n",
            "Epoch 7\n",
            "Adjusting learning rate of group 0 to 1.5000e-01.\n"
          ]
        },
        {
          "metadata": {
            "tags": null
          },
          "name": "stderr",
          "output_type": "stream",
          "text": [
            "Loss=1.243665099143982 Batch_id=390 Train Accuracy=63.38: 100%|██████████| 391/391 [00:34<00:00, 11.18it/s]\n"
          ]
        },
        {
          "metadata": {
            "tags": null
          },
          "name": "stdout",
          "output_type": "stream",
          "text": [
            "\n",
            "Test set: Average loss: 0.8280, Test Accuracy: 7091/10000 (70.91%)\n",
            "\n",
            "Epoch 8\n",
            "Adjusting learning rate of group 0 to 1.5000e-01.\n"
          ]
        },
        {
          "metadata": {
            "tags": null
          },
          "name": "stderr",
          "output_type": "stream",
          "text": [
            "Loss=1.0730024576187134 Batch_id=390 Train Accuracy=64.81: 100%|██████████| 391/391 [00:34<00:00, 11.19it/s]\n"
          ]
        },
        {
          "metadata": {
            "tags": null
          },
          "name": "stdout",
          "output_type": "stream",
          "text": [
            "\n",
            "Test set: Average loss: 0.8260, Test Accuracy: 7106/10000 (71.06%)\n",
            "\n",
            "Epoch 9\n",
            "Adjusting learning rate of group 0 to 1.5000e-01.\n"
          ]
        },
        {
          "metadata": {
            "tags": null
          },
          "name": "stderr",
          "output_type": "stream",
          "text": [
            "Loss=0.9178215861320496 Batch_id=390 Train Accuracy=66.13: 100%|██████████| 391/391 [00:34<00:00, 11.20it/s]\n"
          ]
        },
        {
          "metadata": {
            "tags": null
          },
          "name": "stdout",
          "output_type": "stream",
          "text": [
            "\n",
            "Test set: Average loss: 0.7215, Test Accuracy: 7517/10000 (75.17%)\n",
            "\n",
            "Epoch 10\n",
            "Adjusting learning rate of group 0 to 1.5000e-01.\n"
          ]
        },
        {
          "metadata": {
            "tags": null
          },
          "name": "stderr",
          "output_type": "stream",
          "text": [
            "Loss=1.059538722038269 Batch_id=390 Train Accuracy=67.10: 100%|██████████| 391/391 [00:34<00:00, 11.21it/s]\n"
          ]
        },
        {
          "metadata": {
            "tags": null
          },
          "name": "stdout",
          "output_type": "stream",
          "text": [
            "\n",
            "Test set: Average loss: 0.7553, Test Accuracy: 7436/10000 (74.36%)\n",
            "\n",
            "Epoch 11\n",
            "Adjusting learning rate of group 0 to 1.5000e-01.\n"
          ]
        },
        {
          "metadata": {
            "tags": null
          },
          "name": "stderr",
          "output_type": "stream",
          "text": [
            "Loss=0.9305843114852905 Batch_id=390 Train Accuracy=68.11: 100%|██████████| 391/391 [00:34<00:00, 11.20it/s]\n"
          ]
        },
        {
          "metadata": {
            "tags": null
          },
          "name": "stdout",
          "output_type": "stream",
          "text": [
            "\n",
            "Test set: Average loss: 0.6806, Test Accuracy: 7668/10000 (76.68%)\n",
            "\n",
            "Epoch 12\n",
            "Adjusting learning rate of group 0 to 7.5000e-02.\n"
          ]
        },
        {
          "metadata": {
            "tags": null
          },
          "name": "stderr",
          "output_type": "stream",
          "text": [
            "Loss=0.904399573802948 Batch_id=390 Train Accuracy=70.69: 100%|██████████| 391/391 [00:34<00:00, 11.22it/s]\n"
          ]
        },
        {
          "metadata": {
            "tags": null
          },
          "name": "stdout",
          "output_type": "stream",
          "text": [
            "\n",
            "Test set: Average loss: 0.6161, Test Accuracy: 7871/10000 (78.71%)\n",
            "\n",
            "Epoch 13\n",
            "Adjusting learning rate of group 0 to 7.5000e-02.\n"
          ]
        },
        {
          "metadata": {
            "tags": null
          },
          "name": "stderr",
          "output_type": "stream",
          "text": [
            "Loss=0.6910287141799927 Batch_id=390 Train Accuracy=71.36: 100%|██████████| 391/391 [00:34<00:00, 11.20it/s]\n"
          ]
        },
        {
          "metadata": {
            "tags": null
          },
          "name": "stdout",
          "output_type": "stream",
          "text": [
            "\n",
            "Test set: Average loss: 0.6357, Test Accuracy: 7808/10000 (78.08%)\n",
            "\n",
            "Epoch 14\n",
            "Adjusting learning rate of group 0 to 7.5000e-02.\n"
          ]
        },
        {
          "metadata": {
            "tags": null
          },
          "name": "stderr",
          "output_type": "stream",
          "text": [
            "Loss=0.8393129110336304 Batch_id=390 Train Accuracy=72.15: 100%|██████████| 391/391 [00:34<00:00, 11.21it/s]\n"
          ]
        },
        {
          "metadata": {
            "tags": null
          },
          "name": "stdout",
          "output_type": "stream",
          "text": [
            "\n",
            "Test set: Average loss: 0.6036, Test Accuracy: 7933/10000 (79.33%)\n",
            "\n",
            "Epoch 15\n",
            "Adjusting learning rate of group 0 to 7.5000e-02.\n"
          ]
        },
        {
          "metadata": {
            "tags": null
          },
          "name": "stderr",
          "output_type": "stream",
          "text": [
            "Loss=0.6385098695755005 Batch_id=390 Train Accuracy=72.22: 100%|██████████| 391/391 [00:34<00:00, 11.19it/s]\n"
          ]
        },
        {
          "metadata": {
            "tags": null
          },
          "name": "stdout",
          "output_type": "stream",
          "text": [
            "\n",
            "Test set: Average loss: 0.5716, Test Accuracy: 8061/10000 (80.61%)\n",
            "\n",
            "Epoch 16\n",
            "Adjusting learning rate of group 0 to 7.5000e-02.\n"
          ]
        },
        {
          "metadata": {
            "tags": null
          },
          "name": "stderr",
          "output_type": "stream",
          "text": [
            "Loss=0.8044055104255676 Batch_id=390 Train Accuracy=73.03: 100%|██████████| 391/391 [00:34<00:00, 11.25it/s]\n"
          ]
        },
        {
          "metadata": {
            "tags": null
          },
          "name": "stdout",
          "output_type": "stream",
          "text": [
            "\n",
            "Test set: Average loss: 0.5653, Test Accuracy: 8083/10000 (80.83%)\n",
            "\n",
            "Epoch 17\n",
            "Adjusting learning rate of group 0 to 7.5000e-02.\n"
          ]
        },
        {
          "metadata": {
            "tags": null
          },
          "name": "stderr",
          "output_type": "stream",
          "text": [
            "Loss=0.903701901435852 Batch_id=390 Train Accuracy=73.05: 100%|██████████| 391/391 [00:34<00:00, 11.21it/s]\n"
          ]
        },
        {
          "metadata": {
            "tags": null
          },
          "name": "stdout",
          "output_type": "stream",
          "text": [
            "\n",
            "Test set: Average loss: 0.5920, Test Accuracy: 8030/10000 (80.30%)\n",
            "\n",
            "Epoch 18\n",
            "Adjusting learning rate of group 0 to 3.7500e-02.\n"
          ]
        },
        {
          "metadata": {
            "tags": null
          },
          "name": "stderr",
          "output_type": "stream",
          "text": [
            "Loss=0.8459234237670898 Batch_id=390 Train Accuracy=75.00: 100%|██████████| 391/391 [00:34<00:00, 11.24it/s]\n"
          ]
        },
        {
          "metadata": {
            "tags": null
          },
          "name": "stdout",
          "output_type": "stream",
          "text": [
            "\n",
            "Test set: Average loss: 0.5201, Test Accuracy: 8239/10000 (82.39%)\n",
            "\n",
            "Epoch 19\n",
            "Adjusting learning rate of group 0 to 3.7500e-02.\n"
          ]
        },
        {
          "metadata": {
            "tags": null
          },
          "name": "stderr",
          "output_type": "stream",
          "text": [
            "Loss=0.8019909858703613 Batch_id=390 Train Accuracy=74.74: 100%|██████████| 391/391 [00:34<00:00, 11.20it/s]\n"
          ]
        },
        {
          "metadata": {
            "tags": null
          },
          "name": "stdout",
          "output_type": "stream",
          "text": [
            "\n",
            "Test set: Average loss: 0.5081, Test Accuracy: 8274/10000 (82.74%)\n",
            "\n",
            "Epoch 20\n",
            "Adjusting learning rate of group 0 to 3.7500e-02.\n"
          ]
        },
        {
          "metadata": {
            "tags": null
          },
          "name": "stderr",
          "output_type": "stream",
          "text": [
            "Loss=0.6213299632072449 Batch_id=390 Train Accuracy=75.20: 100%|██████████| 391/391 [00:35<00:00, 11.14it/s]\n"
          ]
        },
        {
          "metadata": {
            "tags": null
          },
          "name": "stdout",
          "output_type": "stream",
          "text": [
            "\n",
            "Test set: Average loss: 0.5124, Test Accuracy: 8223/10000 (82.23%)\n",
            "\n",
            "Epoch 21\n",
            "Adjusting learning rate of group 0 to 3.7500e-02.\n"
          ]
        },
        {
          "metadata": {
            "tags": null
          },
          "name": "stderr",
          "output_type": "stream",
          "text": [
            "Loss=0.7444030046463013 Batch_id=390 Train Accuracy=75.43: 100%|██████████| 391/391 [00:35<00:00, 11.11it/s]\n"
          ]
        },
        {
          "metadata": {
            "tags": null
          },
          "name": "stdout",
          "output_type": "stream",
          "text": [
            "\n",
            "Test set: Average loss: 0.4848, Test Accuracy: 8350/10000 (83.50%)\n",
            "\n",
            "Epoch 22\n",
            "Adjusting learning rate of group 0 to 3.7500e-02.\n"
          ]
        },
        {
          "metadata": {
            "tags": null
          },
          "name": "stderr",
          "output_type": "stream",
          "text": [
            "Loss=0.7624391317367554 Batch_id=390 Train Accuracy=75.37: 100%|██████████| 391/391 [00:35<00:00, 11.16it/s]\n"
          ]
        },
        {
          "metadata": {
            "tags": null
          },
          "name": "stdout",
          "output_type": "stream",
          "text": [
            "\n",
            "Test set: Average loss: 0.4936, Test Accuracy: 8315/10000 (83.15%)\n",
            "\n",
            "Epoch 23\n",
            "Adjusting learning rate of group 0 to 3.7500e-02.\n"
          ]
        },
        {
          "metadata": {
            "tags": null
          },
          "name": "stderr",
          "output_type": "stream",
          "text": [
            "Loss=0.5904108881950378 Batch_id=390 Train Accuracy=75.80: 100%|██████████| 391/391 [00:34<00:00, 11.19it/s]\n"
          ]
        },
        {
          "metadata": {
            "tags": null
          },
          "name": "stdout",
          "output_type": "stream",
          "text": [
            "\n",
            "Test set: Average loss: 0.4918, Test Accuracy: 8331/10000 (83.31%)\n",
            "\n",
            "Epoch 24\n",
            "Adjusting learning rate of group 0 to 1.8750e-02.\n"
          ]
        },
        {
          "metadata": {
            "tags": null
          },
          "name": "stderr",
          "output_type": "stream",
          "text": [
            "Loss=0.8306786417961121 Batch_id=390 Train Accuracy=76.87: 100%|██████████| 391/391 [00:34<00:00, 11.30it/s]\n"
          ]
        },
        {
          "metadata": {
            "tags": null
          },
          "name": "stdout",
          "output_type": "stream",
          "text": [
            "\n",
            "Test set: Average loss: 0.4784, Test Accuracy: 8388/10000 (83.88%)\n",
            "\n",
            "Epoch 25\n",
            "Adjusting learning rate of group 0 to 1.8750e-02.\n"
          ]
        },
        {
          "metadata": {
            "tags": null
          },
          "name": "stderr",
          "output_type": "stream",
          "text": [
            "Loss=0.6394295692443848 Batch_id=390 Train Accuracy=76.67: 100%|██████████| 391/391 [00:34<00:00, 11.28it/s]\n"
          ]
        },
        {
          "metadata": {
            "tags": null
          },
          "name": "stdout",
          "output_type": "stream",
          "text": [
            "\n",
            "Test set: Average loss: 0.4790, Test Accuracy: 8357/10000 (83.57%)\n",
            "\n",
            "Epoch 26\n",
            "Adjusting learning rate of group 0 to 1.8750e-02.\n"
          ]
        },
        {
          "metadata": {
            "tags": null
          },
          "name": "stderr",
          "output_type": "stream",
          "text": [
            "Loss=0.6752746105194092 Batch_id=390 Train Accuracy=77.00: 100%|██████████| 391/391 [00:34<00:00, 11.26it/s]\n"
          ]
        },
        {
          "metadata": {
            "tags": null
          },
          "name": "stdout",
          "output_type": "stream",
          "text": [
            "\n",
            "Test set: Average loss: 0.4725, Test Accuracy: 8395/10000 (83.95%)\n",
            "\n",
            "Epoch 27\n",
            "Adjusting learning rate of group 0 to 1.8750e-02.\n"
          ]
        },
        {
          "metadata": {
            "tags": null
          },
          "name": "stderr",
          "output_type": "stream",
          "text": [
            "Loss=0.5871298313140869 Batch_id=390 Train Accuracy=77.01: 100%|██████████| 391/391 [00:34<00:00, 11.29it/s]\n"
          ]
        },
        {
          "metadata": {
            "tags": null
          },
          "name": "stdout",
          "output_type": "stream",
          "text": [
            "\n",
            "Test set: Average loss: 0.4725, Test Accuracy: 8414/10000 (84.14%)\n",
            "\n",
            "Epoch 28\n",
            "Adjusting learning rate of group 0 to 1.8750e-02.\n"
          ]
        },
        {
          "metadata": {
            "tags": null
          },
          "name": "stderr",
          "output_type": "stream",
          "text": [
            "Loss=0.5582222938537598 Batch_id=390 Train Accuracy=77.40: 100%|██████████| 391/391 [00:34<00:00, 11.25it/s]\n"
          ]
        },
        {
          "metadata": {
            "tags": null
          },
          "name": "stdout",
          "output_type": "stream",
          "text": [
            "\n",
            "Test set: Average loss: 0.4709, Test Accuracy: 8409/10000 (84.09%)\n",
            "\n",
            "Epoch 29\n",
            "Adjusting learning rate of group 0 to 1.8750e-02.\n"
          ]
        },
        {
          "metadata": {
            "tags": null
          },
          "name": "stderr",
          "output_type": "stream",
          "text": [
            "Loss=0.9365755319595337 Batch_id=390 Train Accuracy=77.22: 100%|██████████| 391/391 [00:34<00:00, 11.22it/s]\n"
          ]
        },
        {
          "metadata": {
            "tags": null
          },
          "name": "stdout",
          "output_type": "stream",
          "text": [
            "\n",
            "Test set: Average loss: 0.4682, Test Accuracy: 8431/10000 (84.31%)\n",
            "\n",
            "Epoch 30\n",
            "Adjusting learning rate of group 0 to 9.3750e-03.\n"
          ]
        },
        {
          "output_type": "stream",
          "name": "stderr",
          "text": [
            "Loss=0.6017574667930603 Batch_id=390 Train Accuracy=77.75: 100%|██████████| 391/391 [00:35<00:00, 11.17it/s]\n"
          ]
        },
        {
          "output_type": "stream",
          "name": "stdout",
          "text": [
            "\n",
            "Test set: Average loss: 0.4524, Test Accuracy: 8485/10000 (84.85%)\n",
            "\n",
            "Epoch 31\n",
            "Adjusting learning rate of group 0 to 9.3750e-03.\n"
          ]
        },
        {
          "output_type": "stream",
          "name": "stderr",
          "text": [
            "Loss=0.7337436079978943 Batch_id=390 Train Accuracy=78.33: 100%|██████████| 391/391 [00:34<00:00, 11.19it/s]\n"
          ]
        },
        {
          "output_type": "stream",
          "name": "stdout",
          "text": [
            "\n",
            "Test set: Average loss: 0.4604, Test Accuracy: 8481/10000 (84.81%)\n",
            "\n",
            "Epoch 32\n",
            "Adjusting learning rate of group 0 to 9.3750e-03.\n"
          ]
        },
        {
          "output_type": "stream",
          "name": "stderr",
          "text": [
            "Loss=0.6717038154602051 Batch_id=390 Train Accuracy=78.05: 100%|██████████| 391/391 [00:35<00:00, 11.13it/s]\n"
          ]
        },
        {
          "output_type": "stream",
          "name": "stdout",
          "text": [
            "\n",
            "Test set: Average loss: 0.4518, Test Accuracy: 8457/10000 (84.57%)\n",
            "\n",
            "Epoch 33\n",
            "Adjusting learning rate of group 0 to 9.3750e-03.\n"
          ]
        },
        {
          "output_type": "stream",
          "name": "stderr",
          "text": [
            "Loss=0.7505438923835754 Batch_id=390 Train Accuracy=78.15: 100%|██████████| 391/391 [00:34<00:00, 11.17it/s]\n"
          ]
        },
        {
          "output_type": "stream",
          "name": "stdout",
          "text": [
            "\n",
            "Test set: Average loss: 0.4502, Test Accuracy: 8473/10000 (84.73%)\n",
            "\n",
            "Epoch 34\n",
            "Adjusting learning rate of group 0 to 9.3750e-03.\n"
          ]
        },
        {
          "output_type": "stream",
          "name": "stderr",
          "text": [
            "Loss=0.8237307667732239 Batch_id=390 Train Accuracy=78.27: 100%|██████████| 391/391 [00:35<00:00, 11.12it/s]\n"
          ]
        },
        {
          "output_type": "stream",
          "name": "stdout",
          "text": [
            "\n",
            "Test set: Average loss: 0.4565, Test Accuracy: 8480/10000 (84.80%)\n",
            "\n",
            "Epoch 35\n",
            "Adjusting learning rate of group 0 to 9.3750e-03.\n"
          ]
        },
        {
          "output_type": "stream",
          "name": "stderr",
          "text": [
            "Loss=0.5421313047409058 Batch_id=390 Train Accuracy=78.53: 100%|██████████| 391/391 [00:35<00:00, 11.17it/s]\n"
          ]
        },
        {
          "output_type": "stream",
          "name": "stdout",
          "text": [
            "\n",
            "Test set: Average loss: 0.4498, Test Accuracy: 8488/10000 (84.88%)\n",
            "\n",
            "Epoch 36\n",
            "Adjusting learning rate of group 0 to 4.6875e-03.\n"
          ]
        },
        {
          "output_type": "stream",
          "name": "stderr",
          "text": [
            "Loss=0.6297295093536377 Batch_id=390 Train Accuracy=78.24: 100%|██████████| 391/391 [00:35<00:00, 11.16it/s]\n"
          ]
        },
        {
          "output_type": "stream",
          "name": "stdout",
          "text": [
            "\n",
            "Test set: Average loss: 0.4444, Test Accuracy: 8501/10000 (85.01%)\n",
            "\n",
            "Epoch 37\n",
            "Adjusting learning rate of group 0 to 4.6875e-03.\n"
          ]
        },
        {
          "output_type": "stream",
          "name": "stderr",
          "text": [
            "Loss=0.7338635325431824 Batch_id=390 Train Accuracy=78.40: 100%|██████████| 391/391 [00:34<00:00, 11.21it/s]\n"
          ]
        },
        {
          "output_type": "stream",
          "name": "stdout",
          "text": [
            "\n",
            "Test set: Average loss: 0.4474, Test Accuracy: 8499/10000 (84.99%)\n",
            "\n",
            "Epoch 38\n",
            "Adjusting learning rate of group 0 to 4.6875e-03.\n"
          ]
        },
        {
          "output_type": "stream",
          "name": "stderr",
          "text": [
            "Loss=0.45227187871932983 Batch_id=390 Train Accuracy=78.72: 100%|██████████| 391/391 [00:34<00:00, 11.18it/s]\n"
          ]
        },
        {
          "output_type": "stream",
          "name": "stdout",
          "text": [
            "\n",
            "Test set: Average loss: 0.4411, Test Accuracy: 8499/10000 (84.99%)\n",
            "\n",
            "Epoch 39\n",
            "Adjusting learning rate of group 0 to 4.6875e-03.\n"
          ]
        },
        {
          "output_type": "stream",
          "name": "stderr",
          "text": [
            "Loss=0.7201675176620483 Batch_id=390 Train Accuracy=78.83: 100%|██████████| 391/391 [00:35<00:00, 11.13it/s]\n"
          ]
        },
        {
          "output_type": "stream",
          "name": "stdout",
          "text": [
            "\n",
            "Test set: Average loss: 0.4438, Test Accuracy: 8510/10000 (85.10%)\n",
            "\n",
            "Epoch 40\n",
            "Adjusting learning rate of group 0 to 4.6875e-03.\n"
          ]
        },
        {
          "output_type": "stream",
          "name": "stderr",
          "text": [
            "Loss=0.5658847093582153 Batch_id=390 Train Accuracy=78.87: 100%|██████████| 391/391 [00:34<00:00, 11.21it/s]\n"
          ]
        },
        {
          "output_type": "stream",
          "name": "stdout",
          "text": [
            "\n",
            "Test set: Average loss: 0.4396, Test Accuracy: 8516/10000 (85.16%)\n",
            "\n",
            "Epoch 41\n",
            "Adjusting learning rate of group 0 to 4.6875e-03.\n"
          ]
        },
        {
          "output_type": "stream",
          "name": "stderr",
          "text": [
            "Loss=0.5849113464355469 Batch_id=390 Train Accuracy=78.61: 100%|██████████| 391/391 [00:34<00:00, 11.21it/s]\n"
          ]
        },
        {
          "output_type": "stream",
          "name": "stdout",
          "text": [
            "\n",
            "Test set: Average loss: 0.4379, Test Accuracy: 8520/10000 (85.20%)\n",
            "\n",
            "Epoch 42\n",
            "Adjusting learning rate of group 0 to 2.3437e-03.\n"
          ]
        },
        {
          "output_type": "stream",
          "name": "stderr",
          "text": [
            "Loss=0.5890726447105408 Batch_id=390 Train Accuracy=78.47: 100%|██████████| 391/391 [00:34<00:00, 11.20it/s]\n"
          ]
        },
        {
          "output_type": "stream",
          "name": "stdout",
          "text": [
            "\n",
            "Test set: Average loss: 0.4380, Test Accuracy: 8513/10000 (85.13%)\n",
            "\n",
            "Epoch 43\n",
            "Adjusting learning rate of group 0 to 2.3437e-03.\n"
          ]
        },
        {
          "output_type": "stream",
          "name": "stderr",
          "text": [
            "Loss=0.4344273507595062 Batch_id=390 Train Accuracy=78.99: 100%|██████████| 391/391 [00:34<00:00, 11.18it/s]\n"
          ]
        },
        {
          "output_type": "stream",
          "name": "stdout",
          "text": [
            "\n",
            "Test set: Average loss: 0.4384, Test Accuracy: 8510/10000 (85.10%)\n",
            "\n",
            "Epoch 44\n",
            "Adjusting learning rate of group 0 to 2.3437e-03.\n"
          ]
        },
        {
          "output_type": "stream",
          "name": "stderr",
          "text": [
            "Loss=0.8731554746627808 Batch_id=390 Train Accuracy=78.58: 100%|██████████| 391/391 [00:34<00:00, 11.18it/s]\n"
          ]
        },
        {
          "output_type": "stream",
          "name": "stdout",
          "text": [
            "\n",
            "Test set: Average loss: 0.4390, Test Accuracy: 8531/10000 (85.31%)\n",
            "\n",
            "Epoch 45\n",
            "Adjusting learning rate of group 0 to 2.3437e-03.\n"
          ]
        },
        {
          "output_type": "stream",
          "name": "stderr",
          "text": [
            "Loss=0.471085786819458 Batch_id=390 Train Accuracy=78.80: 100%|██████████| 391/391 [00:35<00:00, 11.15it/s]\n"
          ]
        },
        {
          "output_type": "stream",
          "name": "stdout",
          "text": [
            "\n",
            "Test set: Average loss: 0.4394, Test Accuracy: 8527/10000 (85.27%)\n",
            "\n",
            "Epoch 46\n",
            "Adjusting learning rate of group 0 to 2.3437e-03.\n"
          ]
        },
        {
          "output_type": "stream",
          "name": "stderr",
          "text": [
            "Loss=0.6476141214370728 Batch_id=390 Train Accuracy=78.66: 100%|██████████| 391/391 [00:34<00:00, 11.25it/s]\n"
          ]
        },
        {
          "output_type": "stream",
          "name": "stdout",
          "text": [
            "\n",
            "Test set: Average loss: 0.4396, Test Accuracy: 8524/10000 (85.24%)\n",
            "\n",
            "Epoch 47\n",
            "Adjusting learning rate of group 0 to 2.3437e-03.\n"
          ]
        },
        {
          "output_type": "stream",
          "name": "stderr",
          "text": [
            "Loss=0.6647557020187378 Batch_id=390 Train Accuracy=78.63: 100%|██████████| 391/391 [00:35<00:00, 11.12it/s]\n"
          ]
        },
        {
          "output_type": "stream",
          "name": "stdout",
          "text": [
            "\n",
            "Test set: Average loss: 0.4387, Test Accuracy: 8515/10000 (85.15%)\n",
            "\n",
            "Epoch 48\n",
            "Adjusting learning rate of group 0 to 1.1719e-03.\n"
          ]
        },
        {
          "output_type": "stream",
          "name": "stderr",
          "text": [
            "Loss=0.5301541686058044 Batch_id=390 Train Accuracy=78.96: 100%|██████████| 391/391 [00:35<00:00, 11.08it/s]\n"
          ]
        },
        {
          "output_type": "stream",
          "name": "stdout",
          "text": [
            "\n",
            "Test set: Average loss: 0.4373, Test Accuracy: 8527/10000 (85.27%)\n",
            "\n",
            "Epoch 49\n",
            "Adjusting learning rate of group 0 to 1.1719e-03.\n"
          ]
        },
        {
          "output_type": "stream",
          "name": "stderr",
          "text": [
            "Loss=0.6778241395950317 Batch_id=390 Train Accuracy=79.02: 100%|██████████| 391/391 [00:35<00:00, 11.13it/s]\n"
          ]
        },
        {
          "output_type": "stream",
          "name": "stdout",
          "text": [
            "\n",
            "Test set: Average loss: 0.4379, Test Accuracy: 8522/10000 (85.22%)\n",
            "\n",
            "Epoch 50\n",
            "Adjusting learning rate of group 0 to 1.1719e-03.\n"
          ]
        },
        {
          "output_type": "stream",
          "name": "stderr",
          "text": [
            "Loss=0.6108075380325317 Batch_id=390 Train Accuracy=78.96: 100%|██████████| 391/391 [00:35<00:00, 11.13it/s]\n"
          ]
        },
        {
          "output_type": "stream",
          "name": "stdout",
          "text": [
            "\n",
            "Test set: Average loss: 0.4373, Test Accuracy: 8508/10000 (85.08%)\n",
            "\n",
            "Epoch 51\n",
            "Adjusting learning rate of group 0 to 1.1719e-03.\n"
          ]
        },
        {
          "output_type": "stream",
          "name": "stderr",
          "text": [
            "Loss=0.6684257388114929 Batch_id=390 Train Accuracy=79.11: 100%|██████████| 391/391 [00:35<00:00, 11.15it/s]\n"
          ]
        },
        {
          "output_type": "stream",
          "name": "stdout",
          "text": [
            "\n",
            "Test set: Average loss: 0.4386, Test Accuracy: 8519/10000 (85.19%)\n",
            "\n",
            "Epoch 52\n",
            "Adjusting learning rate of group 0 to 1.1719e-03.\n"
          ]
        },
        {
          "output_type": "stream",
          "name": "stderr",
          "text": [
            "Loss=0.5148723125457764 Batch_id=390 Train Accuracy=78.99: 100%|██████████| 391/391 [00:34<00:00, 11.21it/s]\n"
          ]
        },
        {
          "output_type": "stream",
          "name": "stdout",
          "text": [
            "\n",
            "Test set: Average loss: 0.4360, Test Accuracy: 8519/10000 (85.19%)\n",
            "\n",
            "Epoch 53\n",
            "Adjusting learning rate of group 0 to 1.1719e-03.\n"
          ]
        },
        {
          "output_type": "stream",
          "name": "stderr",
          "text": [
            "Loss=0.8740510940551758 Batch_id=390 Train Accuracy=78.70: 100%|██████████| 391/391 [00:34<00:00, 11.19it/s]\n"
          ]
        },
        {
          "output_type": "stream",
          "name": "stdout",
          "text": [
            "\n",
            "Test set: Average loss: 0.4397, Test Accuracy: 8512/10000 (85.12%)\n",
            "\n",
            "Epoch 54\n",
            "Adjusting learning rate of group 0 to 5.8594e-04.\n"
          ]
        },
        {
          "output_type": "stream",
          "name": "stderr",
          "text": [
            "Loss=0.5241794586181641 Batch_id=390 Train Accuracy=79.20: 100%|██████████| 391/391 [00:34<00:00, 11.20it/s]\n"
          ]
        },
        {
          "output_type": "stream",
          "name": "stdout",
          "text": [
            "\n",
            "Test set: Average loss: 0.4341, Test Accuracy: 8520/10000 (85.20%)\n",
            "\n",
            "Epoch 55\n",
            "Adjusting learning rate of group 0 to 5.8594e-04.\n"
          ]
        },
        {
          "output_type": "stream",
          "name": "stderr",
          "text": [
            "Loss=0.598824143409729 Batch_id=390 Train Accuracy=78.82: 100%|██████████| 391/391 [00:35<00:00, 11.15it/s]\n"
          ]
        },
        {
          "output_type": "stream",
          "name": "stdout",
          "text": [
            "\n",
            "Test set: Average loss: 0.4377, Test Accuracy: 8521/10000 (85.21%)\n",
            "\n",
            "Epoch 56\n",
            "Adjusting learning rate of group 0 to 5.8594e-04.\n"
          ]
        },
        {
          "output_type": "stream",
          "name": "stderr",
          "text": [
            "Loss=0.6257002949714661 Batch_id=390 Train Accuracy=78.95: 100%|██████████| 391/391 [00:34<00:00, 11.18it/s]\n"
          ]
        },
        {
          "output_type": "stream",
          "name": "stdout",
          "text": [
            "\n",
            "Test set: Average loss: 0.4353, Test Accuracy: 8517/10000 (85.17%)\n",
            "\n",
            "Epoch 57\n",
            "Adjusting learning rate of group 0 to 5.8594e-04.\n"
          ]
        },
        {
          "output_type": "stream",
          "name": "stderr",
          "text": [
            "Loss=0.7095457315444946 Batch_id=390 Train Accuracy=78.94: 100%|██████████| 391/391 [00:35<00:00, 11.14it/s]\n"
          ]
        },
        {
          "output_type": "stream",
          "name": "stdout",
          "text": [
            "\n",
            "Test set: Average loss: 0.4391, Test Accuracy: 8513/10000 (85.13%)\n",
            "\n",
            "Epoch 58\n",
            "Adjusting learning rate of group 0 to 5.8594e-04.\n"
          ]
        },
        {
          "output_type": "stream",
          "name": "stderr",
          "text": [
            "Loss=0.4841282367706299 Batch_id=390 Train Accuracy=79.02: 100%|██████████| 391/391 [00:35<00:00, 11.16it/s]\n"
          ]
        },
        {
          "output_type": "stream",
          "name": "stdout",
          "text": [
            "\n",
            "Test set: Average loss: 0.4357, Test Accuracy: 8518/10000 (85.18%)\n",
            "\n",
            "Epoch 59\n",
            "Adjusting learning rate of group 0 to 5.8594e-04.\n"
          ]
        },
        {
          "output_type": "stream",
          "name": "stderr",
          "text": [
            "Loss=0.5783091187477112 Batch_id=390 Train Accuracy=79.18: 100%|██████████| 391/391 [00:35<00:00, 11.17it/s]\n"
          ]
        },
        {
          "output_type": "stream",
          "name": "stdout",
          "text": [
            "\n",
            "Test set: Average loss: 0.4363, Test Accuracy: 8534/10000 (85.34%)\n",
            "\n",
            "Epoch 60\n",
            "Adjusting learning rate of group 0 to 2.9297e-04.\n"
          ]
        },
        {
          "output_type": "stream",
          "name": "stderr",
          "text": [
            "Loss=0.6884676218032837 Batch_id=390 Train Accuracy=79.19: 100%|██████████| 391/391 [00:35<00:00, 11.15it/s]\n"
          ]
        },
        {
          "output_type": "stream",
          "name": "stdout",
          "text": [
            "\n",
            "Test set: Average loss: 0.4362, Test Accuracy: 8523/10000 (85.23%)\n",
            "\n",
            "Epoch 61\n",
            "Adjusting learning rate of group 0 to 2.9297e-04.\n"
          ]
        },
        {
          "output_type": "stream",
          "name": "stderr",
          "text": [
            "Loss=0.7259588241577148 Batch_id=390 Train Accuracy=79.40: 100%|██████████| 391/391 [00:35<00:00, 11.17it/s]\n"
          ]
        },
        {
          "output_type": "stream",
          "name": "stdout",
          "text": [
            "\n",
            "Test set: Average loss: 0.4350, Test Accuracy: 8528/10000 (85.28%)\n",
            "\n",
            "Epoch 62\n",
            "Adjusting learning rate of group 0 to 2.9297e-04.\n"
          ]
        },
        {
          "output_type": "stream",
          "name": "stderr",
          "text": [
            "Loss=0.5742293000221252 Batch_id=390 Train Accuracy=79.04: 100%|██████████| 391/391 [00:35<00:00, 11.15it/s]\n"
          ]
        },
        {
          "output_type": "stream",
          "name": "stdout",
          "text": [
            "\n",
            "Test set: Average loss: 0.4377, Test Accuracy: 8521/10000 (85.21%)\n",
            "\n",
            "Epoch 63\n",
            "Adjusting learning rate of group 0 to 2.9297e-04.\n"
          ]
        },
        {
          "output_type": "stream",
          "name": "stderr",
          "text": [
            "Loss=0.6674093008041382 Batch_id=390 Train Accuracy=79.13: 100%|██████████| 391/391 [00:34<00:00, 11.22it/s]\n"
          ]
        },
        {
          "output_type": "stream",
          "name": "stdout",
          "text": [
            "\n",
            "Test set: Average loss: 0.4390, Test Accuracy: 8520/10000 (85.20%)\n",
            "\n",
            "Epoch 64\n",
            "Adjusting learning rate of group 0 to 2.9297e-04.\n"
          ]
        },
        {
          "output_type": "stream",
          "name": "stderr",
          "text": [
            "Loss=0.7150826454162598 Batch_id=390 Train Accuracy=78.99: 100%|██████████| 391/391 [00:35<00:00, 11.15it/s]\n"
          ]
        },
        {
          "output_type": "stream",
          "name": "stdout",
          "text": [
            "\n",
            "Test set: Average loss: 0.4376, Test Accuracy: 8528/10000 (85.28%)\n",
            "\n",
            "Epoch 65\n",
            "Adjusting learning rate of group 0 to 2.9297e-04.\n"
          ]
        },
        {
          "output_type": "stream",
          "name": "stderr",
          "text": [
            "Loss=0.5323646664619446 Batch_id=390 Train Accuracy=79.05: 100%|██████████| 391/391 [00:34<00:00, 11.22it/s]\n"
          ]
        },
        {
          "output_type": "stream",
          "name": "stdout",
          "text": [
            "\n",
            "Test set: Average loss: 0.4394, Test Accuracy: 8517/10000 (85.17%)\n",
            "\n",
            "Epoch 66\n",
            "Adjusting learning rate of group 0 to 1.4648e-04.\n"
          ]
        },
        {
          "output_type": "stream",
          "name": "stderr",
          "text": [
            "Loss=0.6283364295959473 Batch_id=390 Train Accuracy=79.11: 100%|██████████| 391/391 [00:34<00:00, 11.20it/s]\n"
          ]
        },
        {
          "output_type": "stream",
          "name": "stdout",
          "text": [
            "\n",
            "Test set: Average loss: 0.4370, Test Accuracy: 8523/10000 (85.23%)\n",
            "\n",
            "Epoch 67\n",
            "Adjusting learning rate of group 0 to 1.4648e-04.\n"
          ]
        },
        {
          "output_type": "stream",
          "name": "stderr",
          "text": [
            "Loss=0.5726814270019531 Batch_id=390 Train Accuracy=78.87: 100%|██████████| 391/391 [00:34<00:00, 11.18it/s]\n"
          ]
        },
        {
          "output_type": "stream",
          "name": "stdout",
          "text": [
            "\n",
            "Test set: Average loss: 0.4353, Test Accuracy: 8523/10000 (85.23%)\n",
            "\n",
            "Epoch 68\n",
            "Adjusting learning rate of group 0 to 1.4648e-04.\n"
          ]
        },
        {
          "output_type": "stream",
          "name": "stderr",
          "text": [
            "Loss=0.5429457426071167 Batch_id=390 Train Accuracy=79.17: 100%|██████████| 391/391 [00:34<00:00, 11.18it/s]\n"
          ]
        },
        {
          "output_type": "stream",
          "name": "stdout",
          "text": [
            "\n",
            "Test set: Average loss: 0.4346, Test Accuracy: 8516/10000 (85.16%)\n",
            "\n",
            "Epoch 69\n",
            "Adjusting learning rate of group 0 to 1.4648e-04.\n"
          ]
        },
        {
          "output_type": "stream",
          "name": "stderr",
          "text": [
            "Loss=0.5400570631027222 Batch_id=390 Train Accuracy=79.12: 100%|██████████| 391/391 [00:34<00:00, 11.19it/s]\n"
          ]
        },
        {
          "output_type": "stream",
          "name": "stdout",
          "text": [
            "\n",
            "Test set: Average loss: 0.4371, Test Accuracy: 8525/10000 (85.25%)\n",
            "\n",
            "Epoch 70\n",
            "Adjusting learning rate of group 0 to 1.4648e-04.\n"
          ]
        },
        {
          "output_type": "stream",
          "name": "stderr",
          "text": [
            "Loss=0.6340967416763306 Batch_id=390 Train Accuracy=79.27: 100%|██████████| 391/391 [00:34<00:00, 11.23it/s]\n"
          ]
        },
        {
          "output_type": "stream",
          "name": "stdout",
          "text": [
            "\n",
            "Test set: Average loss: 0.4332, Test Accuracy: 8522/10000 (85.22%)\n",
            "\n",
            "Epoch 71\n",
            "Adjusting learning rate of group 0 to 1.4648e-04.\n"
          ]
        },
        {
          "output_type": "stream",
          "name": "stderr",
          "text": [
            "Loss=0.4942956566810608 Batch_id=390 Train Accuracy=79.06: 100%|██████████| 391/391 [00:34<00:00, 11.22it/s]\n"
          ]
        },
        {
          "output_type": "stream",
          "name": "stdout",
          "text": [
            "\n",
            "Test set: Average loss: 0.4368, Test Accuracy: 8515/10000 (85.15%)\n",
            "\n",
            "Epoch 72\n",
            "Adjusting learning rate of group 0 to 7.3242e-05.\n"
          ]
        },
        {
          "output_type": "stream",
          "name": "stderr",
          "text": [
            "Loss=0.7581793069839478 Batch_id=390 Train Accuracy=79.08: 100%|██████████| 391/391 [00:34<00:00, 11.21it/s]\n"
          ]
        },
        {
          "output_type": "stream",
          "name": "stdout",
          "text": [
            "\n",
            "Test set: Average loss: 0.4365, Test Accuracy: 8540/10000 (85.40%)\n",
            "\n",
            "Epoch 73\n",
            "Adjusting learning rate of group 0 to 7.3242e-05.\n"
          ]
        },
        {
          "output_type": "stream",
          "name": "stderr",
          "text": [
            "Loss=0.7017964124679565 Batch_id=390 Train Accuracy=79.18: 100%|██████████| 391/391 [00:35<00:00, 11.15it/s]\n"
          ]
        },
        {
          "output_type": "stream",
          "name": "stdout",
          "text": [
            "\n",
            "Test set: Average loss: 0.4366, Test Accuracy: 8519/10000 (85.19%)\n",
            "\n",
            "Epoch 74\n",
            "Adjusting learning rate of group 0 to 7.3242e-05.\n"
          ]
        },
        {
          "output_type": "stream",
          "name": "stderr",
          "text": [
            "Loss=0.6465098857879639 Batch_id=390 Train Accuracy=79.02: 100%|██████████| 391/391 [00:34<00:00, 11.23it/s]\n"
          ]
        },
        {
          "output_type": "stream",
          "name": "stdout",
          "text": [
            "\n",
            "Test set: Average loss: 0.4356, Test Accuracy: 8514/10000 (85.14%)\n",
            "\n",
            "Epoch 75\n",
            "Adjusting learning rate of group 0 to 7.3242e-05.\n"
          ]
        },
        {
          "output_type": "stream",
          "name": "stderr",
          "text": [
            "Loss=0.531662106513977 Batch_id=390 Train Accuracy=79.08: 100%|██████████| 391/391 [00:35<00:00, 11.15it/s]\n"
          ]
        },
        {
          "output_type": "stream",
          "name": "stdout",
          "text": [
            "\n",
            "Test set: Average loss: 0.4356, Test Accuracy: 8521/10000 (85.21%)\n",
            "\n",
            "Epoch 76\n",
            "Adjusting learning rate of group 0 to 7.3242e-05.\n"
          ]
        },
        {
          "output_type": "stream",
          "name": "stderr",
          "text": [
            "Loss=0.7057932615280151 Batch_id=390 Train Accuracy=79.18: 100%|██████████| 391/391 [00:34<00:00, 11.20it/s]\n"
          ]
        },
        {
          "output_type": "stream",
          "name": "stdout",
          "text": [
            "\n",
            "Test set: Average loss: 0.4362, Test Accuracy: 8521/10000 (85.21%)\n",
            "\n",
            "Epoch 77\n",
            "Adjusting learning rate of group 0 to 7.3242e-05.\n"
          ]
        },
        {
          "output_type": "stream",
          "name": "stderr",
          "text": [
            "Loss=0.669083833694458 Batch_id=390 Train Accuracy=79.37: 100%|██████████| 391/391 [00:34<00:00, 11.21it/s]\n"
          ]
        },
        {
          "output_type": "stream",
          "name": "stdout",
          "text": [
            "\n",
            "Test set: Average loss: 0.4340, Test Accuracy: 8529/10000 (85.29%)\n",
            "\n",
            "Epoch 78\n",
            "Adjusting learning rate of group 0 to 3.6621e-05.\n"
          ]
        },
        {
          "output_type": "stream",
          "name": "stderr",
          "text": [
            "Loss=0.5526643395423889 Batch_id=390 Train Accuracy=79.27: 100%|██████████| 391/391 [00:34<00:00, 11.21it/s]\n"
          ]
        },
        {
          "output_type": "stream",
          "name": "stdout",
          "text": [
            "\n",
            "Test set: Average loss: 0.4353, Test Accuracy: 8522/10000 (85.22%)\n",
            "\n",
            "Epoch 79\n",
            "Adjusting learning rate of group 0 to 3.6621e-05.\n"
          ]
        },
        {
          "output_type": "stream",
          "name": "stderr",
          "text": [
            "Loss=0.6117178797721863 Batch_id=390 Train Accuracy=79.34: 100%|██████████| 391/391 [00:35<00:00, 11.16it/s]\n"
          ]
        },
        {
          "output_type": "stream",
          "name": "stdout",
          "text": [
            "\n",
            "Test set: Average loss: 0.4339, Test Accuracy: 8528/10000 (85.28%)\n",
            "\n",
            "Epoch 80\n",
            "Adjusting learning rate of group 0 to 3.6621e-05.\n"
          ]
        },
        {
          "output_type": "stream",
          "name": "stderr",
          "text": [
            "Loss=0.5743656754493713 Batch_id=390 Train Accuracy=78.72: 100%|██████████| 391/391 [00:34<00:00, 11.26it/s]\n"
          ]
        },
        {
          "output_type": "stream",
          "name": "stdout",
          "text": [
            "\n",
            "Test set: Average loss: 0.4357, Test Accuracy: 8525/10000 (85.25%)\n",
            "\n",
            "Epoch 81\n",
            "Adjusting learning rate of group 0 to 3.6621e-05.\n"
          ]
        },
        {
          "output_type": "stream",
          "name": "stderr",
          "text": [
            "Loss=0.7102030515670776 Batch_id=390 Train Accuracy=79.09: 100%|██████████| 391/391 [00:34<00:00, 11.20it/s]\n"
          ]
        },
        {
          "output_type": "stream",
          "name": "stdout",
          "text": [
            "\n",
            "Test set: Average loss: 0.4363, Test Accuracy: 8522/10000 (85.22%)\n",
            "\n",
            "Epoch 82\n",
            "Adjusting learning rate of group 0 to 3.6621e-05.\n"
          ]
        },
        {
          "output_type": "stream",
          "name": "stderr",
          "text": [
            "Loss=0.6501851677894592 Batch_id=390 Train Accuracy=79.39: 100%|██████████| 391/391 [00:35<00:00, 11.15it/s]\n"
          ]
        },
        {
          "output_type": "stream",
          "name": "stdout",
          "text": [
            "\n",
            "Test set: Average loss: 0.4343, Test Accuracy: 8534/10000 (85.34%)\n",
            "\n",
            "Epoch 83\n",
            "Adjusting learning rate of group 0 to 3.6621e-05.\n"
          ]
        },
        {
          "output_type": "stream",
          "name": "stderr",
          "text": [
            "Loss=0.7205917239189148 Batch_id=390 Train Accuracy=79.35: 100%|██████████| 391/391 [00:35<00:00, 11.13it/s]\n"
          ]
        },
        {
          "output_type": "stream",
          "name": "stdout",
          "text": [
            "\n",
            "Test set: Average loss: 0.4366, Test Accuracy: 8521/10000 (85.21%)\n",
            "\n",
            "Epoch 84\n",
            "Adjusting learning rate of group 0 to 1.8311e-05.\n"
          ]
        },
        {
          "output_type": "stream",
          "name": "stderr",
          "text": [
            "Loss=0.6009155511856079 Batch_id=390 Train Accuracy=79.12: 100%|██████████| 391/391 [00:34<00:00, 11.20it/s]\n"
          ]
        },
        {
          "output_type": "stream",
          "name": "stdout",
          "text": [
            "\n",
            "Test set: Average loss: 0.4352, Test Accuracy: 8534/10000 (85.34%)\n",
            "\n",
            "Epoch 85\n",
            "Adjusting learning rate of group 0 to 1.8311e-05.\n"
          ]
        },
        {
          "output_type": "stream",
          "name": "stderr",
          "text": [
            "Loss=0.6586196422576904 Batch_id=390 Train Accuracy=79.14: 100%|██████████| 391/391 [00:34<00:00, 11.22it/s]\n"
          ]
        },
        {
          "output_type": "stream",
          "name": "stdout",
          "text": [
            "\n",
            "Test set: Average loss: 0.4370, Test Accuracy: 8529/10000 (85.29%)\n",
            "\n",
            "Epoch 86\n",
            "Adjusting learning rate of group 0 to 1.8311e-05.\n"
          ]
        },
        {
          "output_type": "stream",
          "name": "stderr",
          "text": [
            "Loss=0.5942209959030151 Batch_id=390 Train Accuracy=79.15: 100%|██████████| 391/391 [00:34<00:00, 11.19it/s]\n"
          ]
        },
        {
          "output_type": "stream",
          "name": "stdout",
          "text": [
            "\n",
            "Test set: Average loss: 0.4342, Test Accuracy: 8533/10000 (85.33%)\n",
            "\n",
            "Epoch 87\n",
            "Adjusting learning rate of group 0 to 1.8311e-05.\n"
          ]
        },
        {
          "output_type": "stream",
          "name": "stderr",
          "text": [
            "Loss=0.760888934135437 Batch_id=390 Train Accuracy=79.48: 100%|██████████| 391/391 [00:35<00:00, 11.15it/s]\n"
          ]
        },
        {
          "output_type": "stream",
          "name": "stdout",
          "text": [
            "\n",
            "Test set: Average loss: 0.4357, Test Accuracy: 8523/10000 (85.23%)\n",
            "\n",
            "Epoch 88\n",
            "Adjusting learning rate of group 0 to 1.8311e-05.\n"
          ]
        },
        {
          "output_type": "stream",
          "name": "stderr",
          "text": [
            "Loss=0.5909034609794617 Batch_id=390 Train Accuracy=79.01: 100%|██████████| 391/391 [00:34<00:00, 11.20it/s]\n"
          ]
        },
        {
          "output_type": "stream",
          "name": "stdout",
          "text": [
            "\n",
            "Test set: Average loss: 0.4346, Test Accuracy: 8527/10000 (85.27%)\n",
            "\n",
            "Epoch 89\n",
            "Adjusting learning rate of group 0 to 1.8311e-05.\n"
          ]
        },
        {
          "output_type": "stream",
          "name": "stderr",
          "text": [
            "Loss=0.7741020917892456 Batch_id=390 Train Accuracy=79.11: 100%|██████████| 391/391 [00:34<00:00, 11.23it/s]\n"
          ]
        },
        {
          "output_type": "stream",
          "name": "stdout",
          "text": [
            "\n",
            "Test set: Average loss: 0.4381, Test Accuracy: 8518/10000 (85.18%)\n",
            "\n",
            "Epoch 90\n",
            "Adjusting learning rate of group 0 to 9.1553e-06.\n"
          ]
        },
        {
          "output_type": "stream",
          "name": "stderr",
          "text": [
            "Loss=0.6134542226791382 Batch_id=390 Train Accuracy=79.28: 100%|██████████| 391/391 [00:34<00:00, 11.19it/s]\n"
          ]
        },
        {
          "output_type": "stream",
          "name": "stdout",
          "text": [
            "\n",
            "Test set: Average loss: 0.4347, Test Accuracy: 8532/10000 (85.32%)\n",
            "\n",
            "Epoch 91\n",
            "Adjusting learning rate of group 0 to 9.1553e-06.\n"
          ]
        },
        {
          "output_type": "stream",
          "name": "stderr",
          "text": [
            "Loss=0.5406789183616638 Batch_id=390 Train Accuracy=79.16: 100%|██████████| 391/391 [00:35<00:00, 11.10it/s]\n"
          ]
        },
        {
          "output_type": "stream",
          "name": "stdout",
          "text": [
            "\n",
            "Test set: Average loss: 0.4363, Test Accuracy: 8521/10000 (85.21%)\n",
            "\n",
            "Epoch 92\n",
            "Adjusting learning rate of group 0 to 9.1553e-06.\n"
          ]
        },
        {
          "output_type": "stream",
          "name": "stderr",
          "text": [
            "Loss=0.5318006277084351 Batch_id=390 Train Accuracy=79.00: 100%|██████████| 391/391 [00:35<00:00, 11.14it/s]\n"
          ]
        },
        {
          "output_type": "stream",
          "name": "stdout",
          "text": [
            "\n",
            "Test set: Average loss: 0.4360, Test Accuracy: 8514/10000 (85.14%)\n",
            "\n",
            "Epoch 93\n",
            "Adjusting learning rate of group 0 to 9.1553e-06.\n"
          ]
        },
        {
          "output_type": "stream",
          "name": "stderr",
          "text": [
            "Loss=0.5821075439453125 Batch_id=390 Train Accuracy=79.28: 100%|██████████| 391/391 [00:35<00:00, 11.15it/s]\n"
          ]
        },
        {
          "output_type": "stream",
          "name": "stdout",
          "text": [
            "\n",
            "Test set: Average loss: 0.4339, Test Accuracy: 8530/10000 (85.30%)\n",
            "\n",
            "Epoch 94\n",
            "Adjusting learning rate of group 0 to 9.1553e-06.\n"
          ]
        },
        {
          "output_type": "stream",
          "name": "stderr",
          "text": [
            "Loss=0.5024177432060242 Batch_id=390 Train Accuracy=79.05: 100%|██████████| 391/391 [00:34<00:00, 11.21it/s]\n"
          ]
        },
        {
          "output_type": "stream",
          "name": "stdout",
          "text": [
            "\n",
            "Test set: Average loss: 0.4363, Test Accuracy: 8524/10000 (85.24%)\n",
            "\n",
            "Epoch 95\n",
            "Adjusting learning rate of group 0 to 9.1553e-06.\n"
          ]
        },
        {
          "output_type": "stream",
          "name": "stderr",
          "text": [
            "Loss=0.5409761071205139 Batch_id=390 Train Accuracy=79.42: 100%|██████████| 391/391 [00:35<00:00, 11.16it/s]\n"
          ]
        },
        {
          "output_type": "stream",
          "name": "stdout",
          "text": [
            "\n",
            "Test set: Average loss: 0.4366, Test Accuracy: 8525/10000 (85.25%)\n",
            "\n",
            "Epoch 96\n",
            "Adjusting learning rate of group 0 to 4.5776e-06.\n"
          ]
        },
        {
          "output_type": "stream",
          "name": "stderr",
          "text": [
            "Loss=0.40842801332473755 Batch_id=390 Train Accuracy=79.31: 100%|██████████| 391/391 [00:35<00:00, 11.14it/s]\n"
          ]
        },
        {
          "output_type": "stream",
          "name": "stdout",
          "text": [
            "\n",
            "Test set: Average loss: 0.4353, Test Accuracy: 8527/10000 (85.27%)\n",
            "\n",
            "Epoch 97\n",
            "Adjusting learning rate of group 0 to 4.5776e-06.\n"
          ]
        },
        {
          "output_type": "stream",
          "name": "stderr",
          "text": [
            "Loss=0.6644851565361023 Batch_id=390 Train Accuracy=79.04: 100%|██████████| 391/391 [00:34<00:00, 11.19it/s]\n"
          ]
        },
        {
          "output_type": "stream",
          "name": "stdout",
          "text": [
            "\n",
            "Test set: Average loss: 0.4355, Test Accuracy: 8518/10000 (85.18%)\n",
            "\n",
            "Epoch 98\n",
            "Adjusting learning rate of group 0 to 4.5776e-06.\n"
          ]
        },
        {
          "output_type": "stream",
          "name": "stderr",
          "text": [
            "Loss=0.7533643841743469 Batch_id=390 Train Accuracy=78.90: 100%|██████████| 391/391 [00:34<00:00, 11.17it/s]\n"
          ]
        },
        {
          "output_type": "stream",
          "name": "stdout",
          "text": [
            "\n",
            "Test set: Average loss: 0.4379, Test Accuracy: 8521/10000 (85.21%)\n",
            "\n",
            "Epoch 99\n",
            "Adjusting learning rate of group 0 to 4.5776e-06.\n"
          ]
        },
        {
          "output_type": "stream",
          "name": "stderr",
          "text": [
            "Loss=0.4533653259277344 Batch_id=390 Train Accuracy=79.24: 100%|██████████| 391/391 [00:34<00:00, 11.19it/s]\n"
          ]
        },
        {
          "output_type": "stream",
          "name": "stdout",
          "text": [
            "\n",
            "Test set: Average loss: 0.4345, Test Accuracy: 8519/10000 (85.19%)\n",
            "\n"
          ]
        }
      ]
    },
    {
      "cell_type": "code",
      "metadata": {
        "id": "cYcRbla3y_lz"
      },
      "source": [
        ""
      ],
      "execution_count": null,
      "outputs": []
    }
  ]
}